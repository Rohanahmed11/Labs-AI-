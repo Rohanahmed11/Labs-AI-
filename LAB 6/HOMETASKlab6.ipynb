{
 "cells": [
  {
   "cell_type": "code",
   "execution_count": 3,
   "id": "fe084f95-78c5-4254-9cb0-f8a33f444f67",
   "metadata": {},
   "outputs": [
    {
     "name": "stdout",
     "output_type": "stream",
     "text": [
      "  Institution  Publications  Citations  Patents  Cluster\n",
      "0      Inst-1           500        200       10        2\n",
      "1      Inst-2           725        150       20        1\n",
      "2      Inst-3           300        400       15        0\n",
      "3      Inst-4           400        375       12        0\n",
      "4      Inst-5           600        500       18        0\n",
      "5      Inst-6           825        125       22        1\n",
      "6      Inst-7           575        275       25        2\n",
      "7      Inst-8           250         50        8        2\n",
      "\n",
      "Cluster Centers:\n",
      "[[433.33333333 425.          15.        ]\n",
      " [775.         137.5         21.        ]\n",
      " [441.66666667 175.          14.33333333]]\n"
     ]
    }
   ],
   "source": [
    "import numpy as np\n",
    "from sklearn.cluster import KMeans\n",
    "import pandas as pd\n",
    "\n",
    "# Updated dataset with new labels and features\n",
    "data = {\n",
    "    'Institution': ['Inst-1', 'Inst-2', 'Inst-3', 'Inst-4', 'Inst-5', 'Inst-6', 'Inst-7', 'Inst-8'],\n",
    "    'Publications': [500, 725, 300, 400, 600, 825, 575, 250],\n",
    "    'Citations': [200, 150, 400, 375, 500, 125, 275, 50],\n",
    "    'Patents': [10, 20, 15, 12, 18, 22, 25, 8],\n",
    "}\n",
    "\n",
    "df = pd.DataFrame(data)\n",
    "\n",
    "# Define features for clustering\n",
    "X = df[['Publications', 'Citations', 'Patents']].values\n",
    "\n",
    "# Apply K-Means clustering\n",
    "kmeans = KMeans(n_clusters=3, random_state=42)  # Adjust number of clusters as needed\n",
    "kmeans.fit(X)\n",
    "\n",
    "# Add cluster labels to the dataframe\n",
    "df['Cluster'] = kmeans.labels_\n",
    "\n",
    "# Display the updated DataFrame with cluster labels\n",
    "print(df)\n",
    "\n",
    "# Display cluster centers\n",
    "print(\"\\nCluster Centers:\")\n",
    "print(kmeans.cluster_centers_)\n"
   ]
  },
  {
   "cell_type": "code",
   "execution_count": null,
   "id": "b67f20ee-e588-4ad7-8bd0-6e9868caddcb",
   "metadata": {},
   "outputs": [],
   "source": []
  }
 ],
 "metadata": {
  "kernelspec": {
   "display_name": "Python 3 (ipykernel)",
   "language": "python",
   "name": "python3"
  },
  "language_info": {
   "codemirror_mode": {
    "name": "ipython",
    "version": 3
   },
   "file_extension": ".py",
   "mimetype": "text/x-python",
   "name": "python",
   "nbconvert_exporter": "python",
   "pygments_lexer": "ipython3",
   "version": "3.13.0"
  }
 },
 "nbformat": 4,
 "nbformat_minor": 5
}
